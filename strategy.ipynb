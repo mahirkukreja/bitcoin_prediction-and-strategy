{
 "cells": [
  {
   "cell_type": "raw",
   "metadata": {},
   "source": [
    "# Strategy formation\n",
    "We compute the exponential moving average for a particular day and if it is less than the opening price, then we buy and if it is greater than opening price, we sell.\n",
    "This method has been validated on this year's data where out of 243 days, the strategy holds true for about 140 days.\n",
    "We subtract opening value from emwa and if it is >0 then we make the assumption that closing price will also be greater than opening price. Hence, buy.\n",
    "We subtract opening value from emwa and if it is <0 then we make the assumption that closing price will also be less than opening price. Hence, sell."
   ]
  },
  {
   "cell_type": "code",
   "execution_count": 1,
   "metadata": {
    "collapsed": false
   },
   "outputs": [],
   "source": [
    "import numpy as np # linear algebra\n",
    "import pandas as pd # data processing, CSV file I/O (e.g. pd.read_csv)\n",
    "import matplotlib.pyplot as plt\n",
    "import seaborn as sns\n",
    "color = sns.color_palette()\n",
    "\n",
    "%matplotlib inline\n",
    "\n",
    "pd.options.mode.chained_assignment = None\n",
    "pd.options.display.max_columns = 999\n"
   ]
  },
  {
   "cell_type": "code",
   "execution_count": 2,
   "metadata": {
    "collapsed": true
   },
   "outputs": [],
   "source": [
    "df=pd.read_csv('BTC_data.csv')"
   ]
  },
  {
   "cell_type": "code",
   "execution_count": 3,
   "metadata": {
    "collapsed": false
   },
   "outputs": [],
   "source": [
    "df['Date']=pd.to_datetime(df['Date'])\n",
    "df=df.sort_values(by='Date',ascending=True)"
   ]
  },
  {
   "cell_type": "code",
   "execution_count": 4,
   "metadata": {
    "collapsed": false
   },
   "outputs": [],
   "source": [
    "s = pd.Series(df['Open'].values, index=df.Date.values)"
   ]
  },
  {
   "cell_type": "code",
   "execution_count": 5,
   "metadata": {
    "collapsed": false
   },
   "outputs": [
    {
     "name": "stderr",
     "output_type": "stream",
     "text": [
      "/usr/local/lib/python2.7/dist-packages/ipykernel/__main__.py:1: FutureWarning: pd.ewm_mean is deprecated for Series and will be removed in a future version, replace with \n",
      "\tSeries.ewm(ignore_na=False,span=30,min_periods=0,adjust=True).mean()\n",
      "  if __name__ == '__main__':\n"
     ]
    }
   ],
   "source": [
    "o=pd.ewma(s,span=30)"
   ]
  },
  {
   "cell_type": "code",
   "execution_count": 6,
   "metadata": {
    "collapsed": false
   },
   "outputs": [],
   "source": [
    "ll=o.index\n",
    "lll=o.values\n",
    "newdf=pd.DataFrame()\n",
    "newdf['Date']=ll\n",
    "newdf['ema']=lll\n",
    "op=df.merge(newdf,on='Date')"
   ]
  },
  {
   "cell_type": "code",
   "execution_count": 7,
   "metadata": {
    "collapsed": false
   },
   "outputs": [
    {
     "name": "stdout",
     "output_type": "stream",
     "text": [
      "20\n"
     ]
    }
   ],
   "source": [
    "count_sell=0\n",
    "for i in range(op.shape[0]-1):\n",
    "    if op['Open'][i]-op['ema'][i]<0 and op['Close'][i]-op['Open'][i]<0:\n",
    "        count_sell=count_sell+1\n",
    "#         print op['Open'][i],op['ema'][i]\n",
    "#         print op['Close'][i],op['Open'][i]\n",
    "print count_sell        "
   ]
  },
  {
   "cell_type": "code",
   "execution_count": 8,
   "metadata": {
    "collapsed": false
   },
   "outputs": [
    {
     "name": "stdout",
     "output_type": "stream",
     "text": [
      "122\n"
     ]
    }
   ],
   "source": [
    "count_buy=0\n",
    "for i in range(op.shape[0]-1):\n",
    "    if op['Open'][i]-op['ema'][i]>0 and op['Close'][i]-op['Open'][i]>0:\n",
    "        count_buy=count_buy+1\n",
    "#         print op['Open'][i],op['ema'][i]\n",
    "#         print op['Close'][i],op['Open'][i]\n",
    "print count_buy        "
   ]
  }
 ],
 "metadata": {
  "kernelspec": {
   "display_name": "Python 2",
   "language": "python",
   "name": "python2"
  },
  "language_info": {
   "codemirror_mode": {
    "name": "ipython",
    "version": 2
   },
   "file_extension": ".py",
   "mimetype": "text/x-python",
   "name": "python",
   "nbconvert_exporter": "python",
   "pygments_lexer": "ipython2",
   "version": "2.7.12"
  }
 },
 "nbformat": 4,
 "nbformat_minor": 2
}
